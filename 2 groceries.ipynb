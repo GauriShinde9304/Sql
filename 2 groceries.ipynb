{
 "cells": [
  {
   "cell_type": "code",
   "execution_count": null,
   "id": "cc20e2ed",
   "metadata": {},
   "outputs": [],
   "source": [
    "import pandas as pd\n",
    "import numpy as np\n",
    "import matplotlib.pyplot as plt\n",
    "import seaborn as sns\n",
    "from mlxtend.frequent_patterns import apriori, association_rules"
   ]
  },
  {
   "cell_type": "code",
   "execution_count": null,
   "id": "334ae295",
   "metadata": {},
   "outputs": [],
   "source": [
    "groceries = pd.read_csv('groceries.csv')"
   ]
  },
  {
   "cell_type": "code",
   "execution_count": null,
   "id": "93f7e119",
   "metadata": {},
   "outputs": [],
   "source": [
    "groceries.head(10)"
   ]
  },
  {
   "cell_type": "code",
   "execution_count": null,
   "id": "5be5096d",
   "metadata": {},
   "outputs": [],
   "source": [
    "#Clean and Preprocess Data\n",
    "# Handle missing values (if any)\n",
    "groceries.fillna(groceries.mode().iloc[0], inplace=True)"
   ]
  },
  {
   "cell_type": "code",
   "execution_count": null,
   "id": "9ad40004",
   "metadata": {},
   "outputs": [],
   "source": [
    "# Remove duplicates\n",
    "groceries = groceries.drop_duplicates()"
   ]
  },
  {
   "cell_type": "code",
   "execution_count": null,
   "id": "6f81d99b",
   "metadata": {},
   "outputs": [],
   "source": [
    "groceries.describe()"
   ]
  },
  {
   "cell_type": "code",
   "execution_count": null,
   "id": "16b13692",
   "metadata": {},
   "outputs": [],
   "source": [
    "print(f\"Number of unique items: {groceries['itemDescription'].nunique()}\""
   ]
  },
  {
   "cell_type": "code",
   "execution_count": null,
   "id": "e9711a30",
   "metadata": {},
   "outputs": [],
   "source": [
    "# Most popular items\n",
    "top_items = groceries['itemDescription'].value_counts().head(10)\n",
    "print(f\"Top 10 items:\\n{top_items}\")"
   ]
  },
  {
   "cell_type": "code",
   "execution_count": null,
   "id": "c9c18602",
   "metadata": {},
   "outputs": [],
   "source": [
    "# Distribution of purchase counts\n",
    "sns.histplot(data=groceries, x='Date')\n",
    "plt.xlabel('Date')\n",
    "plt.title('Distribution of ')\n",
    "plt.show()"
   ]
  },
  {
   "cell_type": "code",
   "execution_count": null,
   "id": "df04841d",
   "metadata": {},
   "outputs": [],
   "source": [
    " #Analyze sales trends, identify patterns and correlations between products \n",
    "######pandas   and seaborn\n",
    "# Plot the heatmap of the correlation matrix\n",
    "sns.heatmap(corr_matrix, annot=True, cmap=\"coolwarm\")\n",
    "plt.title('Correlation Matrix of Groceries Dataset')\n",
    "plt.show()\n",
    "\n",
    "# Plot the pairplot of the dataset\n",
    "sns.pairplot(groceries)\n",
    "plt.title('Pairplot of Groceries Dataset')\n",
    "plt.show()"
   ]
  },
  {
   "cell_type": "code",
   "execution_count": null,
   "id": "b2a1c714",
   "metadata": {},
   "outputs": [],
   "source": []
  },
  {
   "cell_type": "code",
   "execution_count": null,
   "id": "f1ff2bdf",
   "metadata": {},
   "outputs": [],
   "source": []
  }
 ],
 "metadata": {
  "kernelspec": {
   "display_name": "Python 3 (ipykernel)",
   "language": "python",
   "name": "python3"
  },
  "language_info": {
   "codemirror_mode": {
    "name": "ipython",
    "version": 3
   },
   "file_extension": ".py",
   "mimetype": "text/x-python",
   "name": "python",
   "nbconvert_exporter": "python",
   "pygments_lexer": "ipython3",
   "version": "3.9.12"
  }
 },
 "nbformat": 4,
 "nbformat_minor": 5
}
